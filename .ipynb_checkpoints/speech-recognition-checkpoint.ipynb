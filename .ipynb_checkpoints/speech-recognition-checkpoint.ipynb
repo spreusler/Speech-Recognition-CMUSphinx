{
 "cells": [
  {
   "cell_type": "code",
   "execution_count": 1,
   "metadata": {},
   "outputs": [
    {
     "ename": "ImportError",
     "evalue": "No module named cmu_sphinx4",
     "output_type": "error",
     "traceback": [
      "\u001b[1;31m---------------------------------------------------------------------------\u001b[0m",
      "\u001b[1;31mImportError\u001b[0m                               Traceback (most recent call last)",
      "\u001b[1;32m<ipython-input-1-e6c20314c363>\u001b[0m in \u001b[0;36m<module>\u001b[1;34m()\u001b[0m\n\u001b[1;32m----> 1\u001b[1;33m \u001b[1;32mimport\u001b[0m \u001b[0mcmu_sphinx4\u001b[0m\u001b[1;33m\u001b[0m\u001b[0m\n\u001b[0m\u001b[0;32m      2\u001b[0m \u001b[0maudio_URL\u001b[0m \u001b[1;33m=\u001b[0m \u001b[1;34m'http://www.voiptroubleshooter.com/open_speech/american/OSR_us_000_0010_8k.wav'\u001b[0m\u001b[1;33m\u001b[0m\u001b[0m\n\u001b[0;32m      3\u001b[0m \u001b[0mtranscriber\u001b[0m \u001b[1;33m=\u001b[0m \u001b[0mcmu_sphinx4\u001b[0m\u001b[1;33m.\u001b[0m\u001b[0mTranscriber\u001b[0m\u001b[1;33m(\u001b[0m\u001b[0maudio_URL\u001b[0m\u001b[1;33m)\u001b[0m\u001b[1;33m\u001b[0m\u001b[0m\n\u001b[0;32m      4\u001b[0m \u001b[1;32mfor\u001b[0m \u001b[0mline\u001b[0m \u001b[1;32min\u001b[0m \u001b[0mtranscriber\u001b[0m\u001b[1;33m.\u001b[0m\u001b[0mtranscript_stream\u001b[0m\u001b[1;33m(\u001b[0m\u001b[1;33m)\u001b[0m\u001b[1;33m:\u001b[0m\u001b[1;33m\u001b[0m\u001b[0m\n\u001b[0;32m      5\u001b[0m     \u001b[1;32mprint\u001b[0m \u001b[0mline\u001b[0m\u001b[1;33m\u001b[0m\u001b[0m\n",
      "\u001b[1;31mImportError\u001b[0m: No module named cmu_sphinx4"
     ]
    }
   ],
   "source": [
    "# Import Library Spracherkennung\n",
    "import cmu_sphinx4\n",
    "\n",
    "# Zuweisung der Quelle\n",
    "audio_URL = 'http://www.voiptroubleshooter.com/open_speech/american/OSR_us_000_0010_8k.wav'\n",
    "\n",
    "# Erzeugung eines Objekts\n",
    "transcriber = cmu_sphinx4.Transcriber(audio_URL)\n",
    "\n",
    "# Ausgabe des Objekts\n",
    "for line in transcriber.transcript_stream():\n",
    "    print line"
   ]
  },
  {
   "cell_type": "code",
   "execution_count": null,
   "metadata": {},
   "outputs": [],
   "source": []
  }
 ],
 "metadata": {
  "kernelspec": {
   "display_name": "Python 2",
   "language": "python",
   "name": "python2"
  },
  "language_info": {
   "codemirror_mode": {
    "name": "ipython",
    "version": 2
   },
   "file_extension": ".py",
   "mimetype": "text/x-python",
   "name": "python",
   "nbconvert_exporter": "python",
   "pygments_lexer": "ipython2",
   "version": "2.7.14"
  }
 },
 "nbformat": 4,
 "nbformat_minor": 2
}
