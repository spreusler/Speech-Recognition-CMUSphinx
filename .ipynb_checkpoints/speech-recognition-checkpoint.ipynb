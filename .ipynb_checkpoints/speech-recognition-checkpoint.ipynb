{
 "cells": [
  {
   "cell_type": "code",
   "execution_count": null,
   "metadata": {},
   "outputs": [],
   "source": [
    "# Import Library Spracherkennung\n",
    "import cmu_sphinx4\n",
    "\n",
    "# Zuweisung der Quelle\n",
    "audio_URL = 'http://www.voiptroubleshooter.com/open_speech/american/OSR_us_000_0010_8k.wav'\n",
    "\n",
    "# Erzeugung eines Objekts\n",
    "transcriber = cmu_sphinx4.Transcriber(audio_URL)\n",
    "\n",
    "# Ausgabe des Objekts\n",
    "for line in transcriber.transcript_stream():\n",
    "    print line"
   ]
  }
 ],
 "metadata": {
  "kernelspec": {
   "display_name": "Python 2",
   "language": "python",
   "name": "python2"
  },
  "language_info": {
   "codemirror_mode": {
    "name": "ipython",
    "version": 2
   },
   "file_extension": ".py",
   "mimetype": "text/x-python",
   "name": "python",
   "nbconvert_exporter": "python",
   "pygments_lexer": "ipython2",
   "version": "2.7.14"
  }
 },
 "nbformat": 4,
 "nbformat_minor": 2
}
